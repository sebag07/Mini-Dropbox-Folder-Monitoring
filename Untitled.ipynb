{
 "cells": [
  {
   "cell_type": "code",
   "execution_count": null,
   "metadata": {},
   "outputs": [],
   "source": [
    "import inotify.adapters\n",
    "\n",
    "def _main():\n",
    "    i = inotify.adapters.Inotify()\n",
    "    print(1)\n",
    "    i.add_watch('/home/sebastian/Documents/Scoala/Pexip')\n",
    "    print(2)\n",
    "\n",
    "#     with open('DestinationFolder/', 'w'):\n",
    "#         pass\n",
    "\n",
    "    for event in i.event_gen(yield_nones=False):\n",
    "        (_, type_names, path, filename) = event\n",
    "        \n",
    "#         print(type_names)\n",
    "#         print(type(type_names[0]))\n",
    "#         print(type_names[1])\n",
    "        \n",
    "        if(type_names[0] == 'IN_MOVED_TO'):\n",
    "            print(\"File \" + filename + \" has been moved inside \" + path)\n",
    "        elif(type_names[0] == 'IN_MOVED_FROM'):\n",
    "            print(\"File \" + filename + \" has been moved from \" + path)\n",
    "            \n",
    "\n",
    "        print(\"PATH=[{}] FILENAME=[{}] EVENT_TYPES={}\".format(\n",
    "              path, filename, type_names))\n",
    "\n",
    "if __name__ == '__main__':\n",
    "    _main()"
   ]
  },
  {
   "cell_type": "code",
   "execution_count": null,
   "metadata": {},
   "outputs": [],
   "source": [
    "print(1)"
   ]
  },
  {
   "cell_type": "code",
   "execution_count": null,
   "metadata": {},
   "outputs": [],
   "source": []
  },
  {
   "cell_type": "code",
   "execution_count": null,
   "metadata": {},
   "outputs": [],
   "source": []
  }
 ],
 "metadata": {
  "kernelspec": {
   "display_name": "Python 3",
   "language": "python",
   "name": "python3"
  },
  "language_info": {
   "codemirror_mode": {
    "name": "ipython",
    "version": 3
   },
   "file_extension": ".py",
   "mimetype": "text/x-python",
   "name": "python",
   "nbconvert_exporter": "python",
   "pygments_lexer": "ipython3",
   "version": "3.7.1"
  }
 },
 "nbformat": 4,
 "nbformat_minor": 2
}
